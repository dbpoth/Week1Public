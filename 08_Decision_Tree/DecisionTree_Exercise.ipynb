{
 "cells": [
  {
   "cell_type": "markdown",
   "source": "# Decision Tree Worksheet",
   "metadata": {
    "colab_type": "text",
    "id": "-UimMCmGe19F",
    "cell_id": "00000-a17bbd0c-936b-4d1f-bfc8-e616765c57a2",
    "deepnote_cell_type": "markdown"
   }
  },
  {
   "cell_type": "code",
   "metadata": {
    "colab": {
     "autoexec": {
      "startup": false,
      "wait_interval": 0
     }
    },
    "colab_type": "code",
    "id": "kedW02LgKjVL",
    "cell_id": "00001-c3a1e231-0620-4e41-9bfb-126e240634bd",
    "deepnote_to_be_reexecuted": false,
    "source_hash": "a2dfebc5",
    "execution_start": 1625688359247,
    "execution_millis": 3221,
    "deepnote_cell_type": "code"
   },
   "source": "import numpy as np\nimport pandas as po\nfrom sklearn.model_selection import train_test_split\nfrom sklearn.tree import DecisionTreeClassifier\nfrom sklearn.metrics import accuracy_score\nfrom sklearn import tree\nfrom sklearn.ensemble import RandomForestClassifier\nfrom sklearn import metrics\n!pip install graphviz\nimport graphviz\nimport matplotlib.pyplot as plt",
   "outputs": [
    {
     "name": "stdout",
     "text": "Requirement already satisfied: graphviz in /root/venv/lib/python3.7/site-packages (0.16)\n\u001b[33mWARNING: You are using pip version 21.1.2; however, version 21.1.3 is available.\nYou should consider upgrading via the '/root/venv/bin/python -m pip install --upgrade pip' command.\u001b[0m\n",
     "output_type": "stream"
    }
   ],
   "execution_count": null
  },
  {
   "cell_type": "markdown",
   "source": "## Loading data\n\nLoad Pima diabetes dataset and split data, with test size 20% and validaton 20%.",
   "metadata": {
    "colab_type": "text",
    "id": "rz35eT5-SMht",
    "cell_id": "00002-e2b4cf2f-ab18-4c3d-a27e-cb9494cd9638",
    "deepnote_cell_type": "markdown"
   }
  },
  {
   "cell_type": "code",
   "metadata": {
    "colab": {
     "autoexec": {
      "startup": false,
      "wait_interval": 0
     }
    },
    "colab_type": "code",
    "id": "Ydh9gmDkMGmu",
    "cell_id": "00003-5bf0a911-8f0b-4156-b87f-79779a708c8b",
    "deepnote_to_be_reexecuted": false,
    "source_hash": "ee6faa95",
    "execution_start": 1625688439666,
    "execution_millis": 112,
    "deepnote_cell_type": "code"
   },
   "source": "url = \"https://raw.githubusercontent.com/jbrownlee/Datasets/master/pima-indians-diabetes.data.csv\"\nnames = ['preg', 'plas', 'pres', 'skin', 'test', 'mass', 'pedi', 'age', 'class']\n\n## YOUR CODE HERE\n\ndata = po.read_csv(url, names=names)\n\ninvalid = ['plas', 'pres', 'skin', 'test', 'mass']\n\nfor i in invalid:\n    data[i].replace(to_replace=0, value=np.nan, inplace=True)\n\ndata = data.dropna(axis=0).reset_index(drop=True)\ndata.head(10)\n\n\nx_cols = names[:-1]\ny_col = names[-1]\n\n\nX_train, X_test, y_train, y_test = train_test_split(data[x_cols], data[y_col], test_size=.20, random_state=0)\n\nX_train, X_val, y_train, y_val = train_test_split(X_train, y_train,test_size=.20, random_state=0)\n\n",
   "outputs": [],
   "execution_count": null
  },
  {
   "cell_type": "markdown",
   "source": "## Creating Model\n\nMake a model using sklearn's DecisionTreeClassifier, with a high max-depth and low minimum sample leafs.",
   "metadata": {
    "colab_type": "text",
    "id": "KAFhsJIsSpMR",
    "cell_id": "00004-6639bcea-5f35-47d7-b6ef-12778faac808",
    "deepnote_cell_type": "markdown"
   }
  },
  {
   "cell_type": "code",
   "metadata": {
    "colab": {
     "autoexec": {
      "startup": false,
      "wait_interval": 0
     }
    },
    "colab_type": "code",
    "id": "fHbA28aFS2DM",
    "cell_id": "00005-34b9ffb0-76e4-42f5-8e16-3f49f8c50e72",
    "deepnote_to_be_reexecuted": false,
    "source_hash": "a79eac1f",
    "execution_start": 1625688844625,
    "execution_millis": 10,
    "deepnote_cell_type": "code"
   },
   "source": "## YOUR CODE HERE\nhigh_depth_tree = DecisionTreeClassifier(criterion=\"entropy\", random_state = None, max_depth = 15, min_samples_leaf = 5)\nhigh_depth_tree.fit(X_train, y_train)",
   "outputs": [
    {
     "output_type": "execute_result",
     "execution_count": 11,
     "data": {
      "text/plain": "DecisionTreeClassifier(criterion='entropy', max_depth=15, min_samples_leaf=5)"
     },
     "metadata": {}
    }
   ],
   "execution_count": null
  },
  {
   "cell_type": "markdown",
   "source": "Print accuracy of training and validation data.",
   "metadata": {
    "colab_type": "text",
    "id": "4_8DZinWTJRa",
    "cell_id": "00006-81e439d6-7a96-472e-9262-17c68e1d0b9e",
    "deepnote_cell_type": "markdown"
   }
  },
  {
   "cell_type": "code",
   "metadata": {
    "colab": {
     "autoexec": {
      "startup": false,
      "wait_interval": 0
     }
    },
    "colab_type": "code",
    "id": "EgByCP_EhyB2",
    "cell_id": "00007-e8d6f2e4-f39b-46a2-9d98-d51ee62690da",
    "deepnote_to_be_reexecuted": false,
    "source_hash": "c93e90d2",
    "execution_start": 1625688943976,
    "execution_millis": 8,
    "deepnote_cell_type": "code"
   },
   "source": "high_depth_train_pred = high_depth_tree.predict(X_train)\nhigh_depth_val_pred = high_depth_tree.predict(X_val)\nprint(\"High depth tree:\")\nprint(\"Training accuracy:\", accuracy_score(y_train, high_depth_train_pred)*100, '%')\nprint(\"Validation accuracy:\", accuracy_score(y_val, high_depth_val_pred)*100, '%')",
   "outputs": [
    {
     "name": "stdout",
     "text": "High depth tree:\nTraining accuracy: 91.2 %\nValidation accuracy: 76.19047619047619 %\n",
     "output_type": "stream"
    }
   ],
   "execution_count": null
  },
  {
   "cell_type": "markdown",
   "source": "Make a model with a low max-depth and higher minimum sample leafs.",
   "metadata": {
    "colab_type": "text",
    "id": "6HNa6fxbT6ak",
    "cell_id": "00008-6e91e88a-ef5c-4aed-8764-def8ee31374d",
    "deepnote_cell_type": "markdown"
   }
  },
  {
   "cell_type": "code",
   "metadata": {
    "colab": {
     "autoexec": {
      "startup": false,
      "wait_interval": 0
     },
     "base_uri": "https://localhost:8080/",
     "height": 17
    },
    "colab_type": "code",
    "executionInfo": {
     "elapsed": 287,
     "status": "ok",
     "timestamp": 1530627778885,
     "user": {
      "displayName": "john passarelli",
      "photoUrl": "https://lh3.googleusercontent.com/a/default-user=s128",
      "userId": "102241934905781120798"
     },
     "user_tz": 240
    },
    "id": "6Pbu-t_tiqnB",
    "outputId": "ef95b427-e6b4-41a7-f992-9826342b662c",
    "cell_id": "00009-dc03dee1-6581-4b23-bd62-24cf1243aa14",
    "deepnote_to_be_reexecuted": false,
    "source_hash": "fc89e54a",
    "execution_start": 1625688961957,
    "execution_millis": 17,
    "deepnote_cell_type": "code"
   },
   "source": "## YOUR CODE HERE\nlow_depth_tree = DecisionTreeClassifier(criterion=\"entropy\", random_state = None, max_depth = 5, min_samples_leaf = 15)\nlow_depth_tree.fit(X_train, y_train)",
   "outputs": [
    {
     "output_type": "execute_result",
     "execution_count": 21,
     "data": {
      "text/plain": "DecisionTreeClassifier(criterion='entropy', max_depth=5, min_samples_leaf=15)"
     },
     "metadata": {}
    }
   ],
   "execution_count": null
  },
  {
   "cell_type": "markdown",
   "source": "Print accuracy of training and validation data.",
   "metadata": {
    "cell_id": "00010-7d8f485f-76b0-4e38-a2e5-088cb3280c4c",
    "deepnote_cell_type": "markdown"
   }
  },
  {
   "cell_type": "code",
   "metadata": {
    "cell_id": "00011-3f1ae7c6-a846-4695-94e8-22d5b70aa40e",
    "deepnote_to_be_reexecuted": false,
    "source_hash": "187423b8",
    "execution_start": 1625688991566,
    "execution_millis": 18,
    "deepnote_cell_type": "code"
   },
   "source": "low_depth_train_pred = low_depth_tree.predict(X_train)\nlow_depth_val_pred = low_depth_tree.predict(X_val)\nprint(\"Low depth tree:\")\nprint(\"Training accuracy:\", accuracy_score(y_train, low_depth_train_pred)*100, '%')\nprint(\"Validation accuracy:\", accuracy_score(y_val, low_depth_val_pred)*100, '%')",
   "outputs": [
    {
     "name": "stdout",
     "text": "Low depth tree:\nTraining accuracy: 80.80000000000001 %\nValidation accuracy: 80.95238095238095 %\n",
     "output_type": "stream"
    }
   ],
   "execution_count": null
  },
  {
   "cell_type": "markdown",
   "source": "Explain the accuracy results below. \n\nHigher training accuracy for high depth, and higher validation accuracy for low depth. ",
   "metadata": {
    "cell_id": "00012-9cf39459-b066-4108-a92c-db97336134c5",
    "deepnote_cell_type": "markdown"
   }
  },
  {
   "cell_type": "markdown",
   "source": "## Metrics",
   "metadata": {
    "cell_id": "00013-f73ddd54-5cd5-4d88-bfef-6e7d298889a7",
    "deepnote_cell_type": "markdown"
   }
  },
  {
   "cell_type": "markdown",
   "source": "Plot the ROC curve and print the AUC of the second model.",
   "metadata": {
    "cell_id": "00014-debf10c1-dd3b-46a5-ac8b-2371da3d5867",
    "deepnote_cell_type": "markdown"
   }
  },
  {
   "cell_type": "code",
   "metadata": {
    "cell_id": "00015-e99a7d62-9b22-4318-b695-8427017bfbcf",
    "deepnote_to_be_reexecuted": false,
    "source_hash": "ec798172",
    "execution_start": 1625689516990,
    "execution_millis": 227,
    "deepnote_cell_type": "code"
   },
   "source": "## YOUR CODE HERE\nval_prob = low_depth_tree.predict_proba(X_val)\nfpr, tpr, thresholds = metrics.roc_curve(y_val, val_prob[:, 1])\n\nroc_auc = metrics.auc(fpr, tpr)\n\n# Plot the ROC curve\nplt.figure(figsize=(6,6))\nlw = 2\nplt.plot(fpr, tpr, color='darkorange',\n         lw=lw, label='ROC curve (area = %0.2f)' % roc_auc)\nplt.plot([0, 1], [0, 1], color='navy', lw=lw, linestyle='--')\nplt.xlim([0.0, 1.0])\nplt.ylim([0.0, 1.0])\nplt.xlabel('False Positive Rate')\nplt.ylabel('True Positive Rate')\nplt.title('Receiver operating characteristic')\nplt.legend(loc=\"lower right\")\nplt.show()",
   "outputs": [
    {
     "data": {
      "text/plain": "<Figure size 432x432 with 1 Axes>",
      "image/png": "[encoded data removed]"
     },
     "metadata": {
      "needs_background": "light",
      "image/png": {
       "width": 394,
       "height": 387
      }
     },
     "output_type": "display_data"
    }
   ],
   "execution_count": null
  },
  {
   "cell_type": "markdown",
   "source": "Use graphviz to visualize your 2nd tree.",
   "metadata": {
    "colab_type": "text",
    "id": "tKdqOMBKUvGZ",
    "cell_id": "00016-ceb0a3bf-53b7-4fda-95a1-8759c4cf9041",
    "deepnote_cell_type": "markdown"
   }
  },
  {
   "cell_type": "code",
   "metadata": {
    "colab": {
     "autoexec": {
      "startup": false,
      "wait_interval": 0
     }
    },
    "colab_type": "code",
    "id": "8o55bY_jl8gj",
    "cell_id": "00017-937c99ac-ed8f-4575-8a24-2033a69b5153",
    "deepnote_to_be_reexecuted": false,
    "source_hash": "d7f97f4e",
    "execution_start": 1625689696069,
    "execution_millis": 50,
    "deepnote_cell_type": "code"
   },
   "source": "## YOUR CODE HERE\ndot_data = tree.export_graphviz(low_depth_tree, out_file=None, filled=True)\n\ngraph = graphviz.Source(dot_data)\ngraph\n",
   "outputs": [
    {
     "output_type": "execute_result",
     "execution_count": 28,
     "data": {
      "text/plain": "<graphviz.files.Source at 0x7f93afdf7050>",
      "image/svg+xml": "<?xml version=\"1.0\" encoding=\"UTF-8\" standalone=\"no\"?>\n<!DOCTYPE svg PUBLIC \"-//W3C//DTD SVG 1.1//EN\"\n \"http://www.w3.org/Graphics/SVG/1.1/DTD/svg11.dtd\">\n<!-- Generated by graphviz version 2.40.1 (20161225.0304)\n -->\n<!-- Title: Tree Pages: 1 -->\n<svg width=\"898pt\" height=\"581pt\"\n viewBox=\"0.00 0.00 898.00 581.00\" xmlns=\"http://www.w3.org/2000/svg\" xmlns:xlink=\"http://www.w3.org/1999/xlink\">\n<g id=\"graph0\" class=\"graph\" transform=\"scale(1 1) rotate(0) translate(4 577)\">\n<title>Tree</title>\n<polygon fill=\"#ffffff\" stroke=\"transparent\" points=\"-4,4 -4,-577 894,-577 894,4 -4,4\"/>\n<!-- 0 -->\n<g id=\"node1\" class=\"node\">\n<title>0</title>\n<polygon fill=\"#f2be9a\" stroke=\"#000000\" points=\"512,-573 372,-573 372,-505 512,-505 512,-573\"/>\n<text text-anchor=\"middle\" x=\"442\" y=\"-557.8\" font-family=\"Times,serif\" font-size=\"14.00\" fill=\"#000000\">X[1] &lt;= 127.5</text>\n<text text-anchor=\"middle\" x=\"442\" y=\"-542.8\" font-family=\"Times,serif\" font-size=\"14.00\" fill=\"#000000\">entropy = 0.913</text>\n<text text-anchor=\"middle\" x=\"442\" y=\"-527.8\" font-family=\"Times,serif\" font-size=\"14.00\" fill=\"#000000\">samples = 250</text>\n<text text-anchor=\"middle\" x=\"442\" y=\"-512.8\" font-family=\"Times,serif\" font-size=\"14.00\" fill=\"#000000\">value = [168, 82]</text>\n</g>\n<!-- 1 -->\n<g id=\"node2\" class=\"node\">\n<title>1</title>\n<polygon fill=\"#e9965a\" stroke=\"#000000\" points=\"435,-469 295,-469 295,-401 435,-401 435,-469\"/>\n<text text-anchor=\"middle\" x=\"365\" y=\"-453.8\" font-family=\"Times,serif\" font-size=\"14.00\" fill=\"#000000\">X[6] &lt;= 0.677</text>\n<text text-anchor=\"middle\" x=\"365\" y=\"-438.8\" font-family=\"Times,serif\" font-size=\"14.00\" fill=\"#000000\">entropy = 0.589</text>\n<text text-anchor=\"middle\" x=\"365\" y=\"-423.8\" font-family=\"Times,serif\" font-size=\"14.00\" fill=\"#000000\">samples = 155</text>\n<text text-anchor=\"middle\" x=\"365\" y=\"-408.8\" font-family=\"Times,serif\" font-size=\"14.00\" fill=\"#000000\">value = [133, 22]</text>\n</g>\n<!-- 0&#45;&gt;1 -->\n<g id=\"edge1\" class=\"edge\">\n<title>0&#45;&gt;1</title>\n<path fill=\"none\" stroke=\"#000000\" d=\"M416.7873,-504.9465C410.2727,-496.1475 403.1795,-486.5672 396.3918,-477.3993\"/>\n<polygon fill=\"#000000\" stroke=\"#000000\" points=\"399.0327,-475.0843 390.2693,-469.13 393.4069,-479.2496 399.0327,-475.0843\"/>\n<text text-anchor=\"middle\" x=\"386.5809\" y=\"-490.1564\" font-family=\"Times,serif\" font-size=\"14.00\" fill=\"#000000\">True</text>\n</g>\n<!-- 12 -->\n<g id=\"node13\" class=\"node\">\n<title>12</title>\n<polygon fill=\"#acd6f4\" stroke=\"#000000\" points=\"587,-469 453,-469 453,-401 587,-401 587,-469\"/>\n<text text-anchor=\"middle\" x=\"520\" y=\"-453.8\" font-family=\"Times,serif\" font-size=\"14.00\" fill=\"#000000\">X[5] &lt;= 29.7</text>\n<text text-anchor=\"middle\" x=\"520\" y=\"-438.8\" font-family=\"Times,serif\" font-size=\"14.00\" fill=\"#000000\">entropy = 0.949</text>\n<text text-anchor=\"middle\" x=\"520\" y=\"-423.8\" font-family=\"Times,serif\" font-size=\"14.00\" fill=\"#000000\">samples = 95</text>\n<text text-anchor=\"middle\" x=\"520\" y=\"-408.8\" font-family=\"Times,serif\" font-size=\"14.00\" fill=\"#000000\">value = [35, 60]</text>\n</g>\n<!-- 0&#45;&gt;12 -->\n<g id=\"edge12\" class=\"edge\">\n<title>0&#45;&gt;12</title>\n<path fill=\"none\" stroke=\"#000000\" d=\"M467.5401,-504.9465C474.1393,-496.1475 481.3246,-486.5672 488.2005,-477.3993\"/>\n<polygon fill=\"#000000\" stroke=\"#000000\" points=\"491.2025,-479.23 494.4025,-469.13 485.6025,-475.03 491.2025,-479.23\"/>\n<text text-anchor=\"middle\" x=\"497.938\" y=\"-490.1787\" font-family=\"Times,serif\" font-size=\"14.00\" fill=\"#000000\">False</text>\n</g>\n<!-- 2 -->\n<g id=\"node3\" class=\"node\">\n<title>2</title>\n<polygon fill=\"#e78a46\" stroke=\"#000000\" points=\"281,-365 147,-365 147,-297 281,-297 281,-365\"/>\n<text text-anchor=\"middle\" x=\"214\" y=\"-349.8\" font-family=\"Times,serif\" font-size=\"14.00\" fill=\"#000000\">X[5] &lt;= 30.95</text>\n<text text-anchor=\"middle\" x=\"214\" y=\"-334.8\" font-family=\"Times,serif\" font-size=\"14.00\" fill=\"#000000\">entropy = 0.342</text>\n<text text-anchor=\"middle\" x=\"214\" y=\"-319.8\" font-family=\"Times,serif\" font-size=\"14.00\" fill=\"#000000\">samples = 110</text>\n<text text-anchor=\"middle\" x=\"214\" y=\"-304.8\" font-family=\"Times,serif\" font-size=\"14.00\" fill=\"#000000\">value = [103, 7]</text>\n</g>\n<!-- 1&#45;&gt;2 -->\n<g id=\"edge2\" class=\"edge\">\n<title>1&#45;&gt;2</title>\n<path fill=\"none\" stroke=\"#000000\" d=\"M315.557,-400.9465C301.6083,-391.3395 286.3071,-380.8009 271.9097,-370.8848\"/>\n<polygon fill=\"#000000\" stroke=\"#000000\" points=\"273.7751,-367.9198 263.5541,-365.13 269.8045,-373.6848 273.7751,-367.9198\"/>\n</g>\n<!-- 9 -->\n<g id=\"node10\" class=\"node\">\n<title>9</title>\n<polygon fill=\"#f2c09c\" stroke=\"#000000\" points=\"433,-365 299,-365 299,-297 433,-297 433,-365\"/>\n<text text-anchor=\"middle\" x=\"366\" y=\"-349.8\" font-family=\"Times,serif\" font-size=\"14.00\" fill=\"#000000\">X[4] &lt;= 89.0</text>\n<text text-anchor=\"middle\" x=\"366\" y=\"-334.8\" font-family=\"Times,serif\" font-size=\"14.00\" fill=\"#000000\">entropy = 0.918</text>\n<text text-anchor=\"middle\" x=\"366\" y=\"-319.8\" font-family=\"Times,serif\" font-size=\"14.00\" fill=\"#000000\">samples = 45</text>\n<text text-anchor=\"middle\" x=\"366\" y=\"-304.8\" font-family=\"Times,serif\" font-size=\"14.00\" fill=\"#000000\">value = [30, 15]</text>\n</g>\n<!-- 1&#45;&gt;9 -->\n<g id=\"edge9\" class=\"edge\">\n<title>1&#45;&gt;9</title>\n<path fill=\"none\" stroke=\"#000000\" d=\"M365.3274,-400.9465C365.406,-392.776 365.491,-383.9318 365.5734,-375.3697\"/>\n<polygon fill=\"#000000\" stroke=\"#000000\" points=\"369.0754,-375.1632 365.6718,-365.13 362.0757,-375.0958 369.0754,-375.1632\"/>\n</g>\n<!-- 3 -->\n<g id=\"node4\" class=\"node\">\n<title>3</title>\n<polygon fill=\"#e58139\" stroke=\"#000000\" points=\"129,-253.5 7,-253.5 7,-200.5 129,-200.5 129,-253.5\"/>\n<text text-anchor=\"middle\" x=\"68\" y=\"-238.3\" font-family=\"Times,serif\" font-size=\"14.00\" fill=\"#000000\">entropy = 0.0</text>\n<text text-anchor=\"middle\" x=\"68\" y=\"-223.3\" font-family=\"Times,serif\" font-size=\"14.00\" fill=\"#000000\">samples = 45</text>\n<text text-anchor=\"middle\" x=\"68\" y=\"-208.3\" font-family=\"Times,serif\" font-size=\"14.00\" fill=\"#000000\">value = [45, 0]</text>\n</g>\n<!-- 2&#45;&gt;3 -->\n<g id=\"edge3\" class=\"edge\">\n<title>2&#45;&gt;3</title>\n<path fill=\"none\" stroke=\"#000000\" d=\"M166.1941,-296.9465C149.3392,-284.9403 130.4419,-271.4791 113.7601,-259.5962\"/>\n<polygon fill=\"#000000\" stroke=\"#000000\" points=\"115.4367,-256.4933 105.2611,-253.5422 111.3753,-262.1947 115.4367,-256.4933\"/>\n</g>\n<!-- 4 -->\n<g id=\"node5\" class=\"node\">\n<title>4</title>\n<polygon fill=\"#e89051\" stroke=\"#000000\" points=\"281,-261 147,-261 147,-193 281,-193 281,-261\"/>\n<text text-anchor=\"middle\" x=\"214\" y=\"-245.8\" font-family=\"Times,serif\" font-size=\"14.00\" fill=\"#000000\">X[5] &lt;= 37.5</text>\n<text text-anchor=\"middle\" x=\"214\" y=\"-230.8\" font-family=\"Times,serif\" font-size=\"14.00\" fill=\"#000000\">entropy = 0.493</text>\n<text text-anchor=\"middle\" x=\"214\" y=\"-215.8\" font-family=\"Times,serif\" font-size=\"14.00\" fill=\"#000000\">samples = 65</text>\n<text text-anchor=\"middle\" x=\"214\" y=\"-200.8\" font-family=\"Times,serif\" font-size=\"14.00\" fill=\"#000000\">value = [58, 7]</text>\n</g>\n<!-- 2&#45;&gt;4 -->\n<g id=\"edge4\" class=\"edge\">\n<title>2&#45;&gt;4</title>\n<path fill=\"none\" stroke=\"#000000\" d=\"M214,-296.9465C214,-288.776 214,-279.9318 214,-271.3697\"/>\n<polygon fill=\"#000000\" stroke=\"#000000\" points=\"217.5001,-271.13 214,-261.13 210.5001,-271.13 217.5001,-271.13\"/>\n</g>\n<!-- 5 -->\n<g id=\"node6\" class=\"node\">\n<title>5</title>\n<polygon fill=\"#ea9a61\" stroke=\"#000000\" points=\"205.5,-157 80.5,-157 80.5,-89 205.5,-89 205.5,-157\"/>\n<text text-anchor=\"middle\" x=\"143\" y=\"-141.8\" font-family=\"Times,serif\" font-size=\"14.00\" fill=\"#000000\">X[6] &lt;= 0.266</text>\n<text text-anchor=\"middle\" x=\"143\" y=\"-126.8\" font-family=\"Times,serif\" font-size=\"14.00\" fill=\"#000000\">entropy = 0.65</text>\n<text text-anchor=\"middle\" x=\"143\" y=\"-111.8\" font-family=\"Times,serif\" font-size=\"14.00\" fill=\"#000000\">samples = 42</text>\n<text text-anchor=\"middle\" x=\"143\" y=\"-96.8\" font-family=\"Times,serif\" font-size=\"14.00\" fill=\"#000000\">value = [35, 7]</text>\n</g>\n<!-- 4&#45;&gt;5 -->\n<g id=\"edge5\" class=\"edge\">\n<title>4&#45;&gt;5</title>\n<path fill=\"none\" stroke=\"#000000\" d=\"M190.7519,-192.9465C184.745,-184.1475 178.2045,-174.5672 171.9457,-165.3993\"/>\n<polygon fill=\"#000000\" stroke=\"#000000\" points=\"174.8293,-163.4155 166.3003,-157.13 169.048,-167.3623 174.8293,-163.4155\"/>\n</g>\n<!-- 8 -->\n<g id=\"node9\" class=\"node\">\n<title>8</title>\n<polygon fill=\"#e58139\" stroke=\"#000000\" points=\"346,-149.5 224,-149.5 224,-96.5 346,-96.5 346,-149.5\"/>\n<text text-anchor=\"middle\" x=\"285\" y=\"-134.3\" font-family=\"Times,serif\" font-size=\"14.00\" fill=\"#000000\">entropy = 0.0</text>\n<text text-anchor=\"middle\" x=\"285\" y=\"-119.3\" font-family=\"Times,serif\" font-size=\"14.00\" fill=\"#000000\">samples = 23</text>\n<text text-anchor=\"middle\" x=\"285\" y=\"-104.3\" font-family=\"Times,serif\" font-size=\"14.00\" fill=\"#000000\">value = [23, 0]</text>\n</g>\n<!-- 4&#45;&gt;8 -->\n<g id=\"edge8\" class=\"edge\">\n<title>4&#45;&gt;8</title>\n<path fill=\"none\" stroke=\"#000000\" d=\"M237.2481,-192.9465C244.9182,-181.7113 253.4582,-169.2021 261.1711,-157.9043\"/>\n<polygon fill=\"#000000\" stroke=\"#000000\" points=\"264.1322,-159.7745 266.8799,-149.5422 258.3509,-155.8277 264.1322,-159.7745\"/>\n</g>\n<!-- 6 -->\n<g id=\"node7\" class=\"node\">\n<title>6</title>\n<polygon fill=\"#f2c09c\" stroke=\"#000000\" points=\"134,-53 0,-53 0,0 134,0 134,-53\"/>\n<text text-anchor=\"middle\" x=\"67\" y=\"-37.8\" font-family=\"Times,serif\" font-size=\"14.00\" fill=\"#000000\">entropy = 0.918</text>\n<text text-anchor=\"middle\" x=\"67\" y=\"-22.8\" font-family=\"Times,serif\" font-size=\"14.00\" fill=\"#000000\">samples = 15</text>\n<text text-anchor=\"middle\" x=\"67\" y=\"-7.8\" font-family=\"Times,serif\" font-size=\"14.00\" fill=\"#000000\">value = [10, 5]</text>\n</g>\n<!-- 5&#45;&gt;6 -->\n<g id=\"edge6\" class=\"edge\">\n<title>5&#45;&gt;6</title>\n<path fill=\"none\" stroke=\"#000000\" d=\"M116.2052,-88.9777C109.1378,-80.0039 101.5024,-70.3089 94.4033,-61.295\"/>\n<polygon fill=\"#000000\" stroke=\"#000000\" points=\"97.003,-58.9391 88.0662,-53.2485 91.5037,-63.2701 97.003,-58.9391\"/>\n</g>\n<!-- 7 -->\n<g id=\"node8\" class=\"node\">\n<title>7</title>\n<polygon fill=\"#e78b49\" stroke=\"#000000\" points=\"286,-53 152,-53 152,0 286,0 286,-53\"/>\n<text text-anchor=\"middle\" x=\"219\" y=\"-37.8\" font-family=\"Times,serif\" font-size=\"14.00\" fill=\"#000000\">entropy = 0.381</text>\n<text text-anchor=\"middle\" x=\"219\" y=\"-22.8\" font-family=\"Times,serif\" font-size=\"14.00\" fill=\"#000000\">samples = 27</text>\n<text text-anchor=\"middle\" x=\"219\" y=\"-7.8\" font-family=\"Times,serif\" font-size=\"14.00\" fill=\"#000000\">value = [25, 2]</text>\n</g>\n<!-- 5&#45;&gt;7 -->\n<g id=\"edge7\" class=\"edge\">\n<title>5&#45;&gt;7</title>\n<path fill=\"none\" stroke=\"#000000\" d=\"M169.7948,-88.9777C176.8622,-80.0039 184.4976,-70.3089 191.5967,-61.295\"/>\n<polygon fill=\"#000000\" stroke=\"#000000\" points=\"194.4963,-63.2701 197.9338,-53.2485 188.997,-58.9391 194.4963,-63.2701\"/>\n</g>\n<!-- 10 -->\n<g id=\"node11\" class=\"node\">\n<title>10</title>\n<polygon fill=\"#e99355\" stroke=\"#000000\" points=\"433,-253.5 299,-253.5 299,-200.5 433,-200.5 433,-253.5\"/>\n<text text-anchor=\"middle\" x=\"366\" y=\"-238.3\" font-family=\"Times,serif\" font-size=\"14.00\" fill=\"#000000\">entropy = 0.544</text>\n<text text-anchor=\"middle\" x=\"366\" y=\"-223.3\" font-family=\"Times,serif\" font-size=\"14.00\" fill=\"#000000\">samples = 16</text>\n<text text-anchor=\"middle\" x=\"366\" y=\"-208.3\" font-family=\"Times,serif\" font-size=\"14.00\" fill=\"#000000\">value = [14, 2]</text>\n</g>\n<!-- 9&#45;&gt;10 -->\n<g id=\"edge10\" class=\"edge\">\n<title>9&#45;&gt;10</title>\n<path fill=\"none\" stroke=\"#000000\" d=\"M366,-296.9465C366,-286.2621 366,-274.4254 366,-263.5742\"/>\n<polygon fill=\"#000000\" stroke=\"#000000\" points=\"369.5001,-263.5421 366,-253.5422 362.5001,-263.5422 369.5001,-263.5421\"/>\n</g>\n<!-- 11 -->\n<g id=\"node12\" class=\"node\">\n<title>11</title>\n<polygon fill=\"#fae7da\" stroke=\"#000000\" points=\"585,-253.5 451,-253.5 451,-200.5 585,-200.5 585,-253.5\"/>\n<text text-anchor=\"middle\" x=\"518\" y=\"-238.3\" font-family=\"Times,serif\" font-size=\"14.00\" fill=\"#000000\">entropy = 0.992</text>\n<text text-anchor=\"middle\" x=\"518\" y=\"-223.3\" font-family=\"Times,serif\" font-size=\"14.00\" fill=\"#000000\">samples = 29</text>\n<text text-anchor=\"middle\" x=\"518\" y=\"-208.3\" font-family=\"Times,serif\" font-size=\"14.00\" fill=\"#000000\">value = [16, 13]</text>\n</g>\n<!-- 9&#45;&gt;11 -->\n<g id=\"edge11\" class=\"edge\">\n<title>9&#45;&gt;11</title>\n<path fill=\"none\" stroke=\"#000000\" d=\"M415.7705,-296.9465C433.4791,-284.8301 453.3532,-271.232 470.8368,-259.2696\"/>\n<polygon fill=\"#000000\" stroke=\"#000000\" points=\"472.9309,-262.0776 479.2076,-253.5422 468.9781,-256.3005 472.9309,-262.0776\"/>\n</g>\n<!-- 13 -->\n<g id=\"node14\" class=\"node\">\n<title>13</title>\n<polygon fill=\"#f1bc95\" stroke=\"#000000\" points=\"586,-357.5 452,-357.5 452,-304.5 586,-304.5 586,-357.5\"/>\n<text text-anchor=\"middle\" x=\"519\" y=\"-342.3\" font-family=\"Times,serif\" font-size=\"14.00\" fill=\"#000000\">entropy = 0.902</text>\n<text text-anchor=\"middle\" x=\"519\" y=\"-327.3\" font-family=\"Times,serif\" font-size=\"14.00\" fill=\"#000000\">samples = 22</text>\n<text text-anchor=\"middle\" x=\"519\" y=\"-312.3\" font-family=\"Times,serif\" font-size=\"14.00\" fill=\"#000000\">value = [15, 7]</text>\n</g>\n<!-- 12&#45;&gt;13 -->\n<g id=\"edge13\" class=\"edge\">\n<title>12&#45;&gt;13</title>\n<path fill=\"none\" stroke=\"#000000\" d=\"M519.6726,-400.9465C519.5698,-390.2621 519.456,-378.4254 519.3517,-367.5742\"/>\n<polygon fill=\"#000000\" stroke=\"#000000\" points=\"522.8513,-367.508 519.2552,-357.5422 515.8516,-367.5754 522.8513,-367.508\"/>\n</g>\n<!-- 14 -->\n<g id=\"node15\" class=\"node\">\n<title>14</title>\n<polygon fill=\"#84c2ef\" stroke=\"#000000\" points=\"738,-365 604,-365 604,-297 738,-297 738,-365\"/>\n<text text-anchor=\"middle\" x=\"671\" y=\"-349.8\" font-family=\"Times,serif\" font-size=\"14.00\" fill=\"#000000\">X[1] &lt;= 167.0</text>\n<text text-anchor=\"middle\" x=\"671\" y=\"-334.8\" font-family=\"Times,serif\" font-size=\"14.00\" fill=\"#000000\">entropy = 0.847</text>\n<text text-anchor=\"middle\" x=\"671\" y=\"-319.8\" font-family=\"Times,serif\" font-size=\"14.00\" fill=\"#000000\">samples = 73</text>\n<text text-anchor=\"middle\" x=\"671\" y=\"-304.8\" font-family=\"Times,serif\" font-size=\"14.00\" fill=\"#000000\">value = [20, 53]</text>\n</g>\n<!-- 12&#45;&gt;14 -->\n<g id=\"edge14\" class=\"edge\">\n<title>12&#45;&gt;14</title>\n<path fill=\"none\" stroke=\"#000000\" d=\"M569.443,-400.9465C583.3917,-391.3395 598.6929,-380.8009 613.0903,-370.8848\"/>\n<polygon fill=\"#000000\" stroke=\"#000000\" points=\"615.1955,-373.6848 621.4459,-365.13 611.2249,-367.9198 615.1955,-373.6848\"/>\n</g>\n<!-- 15 -->\n<g id=\"node16\" class=\"node\">\n<title>15</title>\n<polygon fill=\"#a3d1f3\" stroke=\"#000000\" points=\"738,-261 604,-261 604,-193 738,-193 738,-261\"/>\n<text text-anchor=\"middle\" x=\"671\" y=\"-245.8\" font-family=\"Times,serif\" font-size=\"14.00\" fill=\"#000000\">X[1] &lt;= 142.5</text>\n<text text-anchor=\"middle\" x=\"671\" y=\"-230.8\" font-family=\"Times,serif\" font-size=\"14.00\" fill=\"#000000\">entropy = 0.932</text>\n<text text-anchor=\"middle\" x=\"671\" y=\"-215.8\" font-family=\"Times,serif\" font-size=\"14.00\" fill=\"#000000\">samples = 46</text>\n<text text-anchor=\"middle\" x=\"671\" y=\"-200.8\" font-family=\"Times,serif\" font-size=\"14.00\" fill=\"#000000\">value = [16, 30]</text>\n</g>\n<!-- 14&#45;&gt;15 -->\n<g id=\"edge15\" class=\"edge\">\n<title>14&#45;&gt;15</title>\n<path fill=\"none\" stroke=\"#000000\" d=\"M671,-296.9465C671,-288.776 671,-279.9318 671,-271.3697\"/>\n<polygon fill=\"#000000\" stroke=\"#000000\" points=\"674.5001,-271.13 671,-261.13 667.5001,-271.13 674.5001,-271.13\"/>\n</g>\n<!-- 20 -->\n<g id=\"node21\" class=\"node\">\n<title>20</title>\n<polygon fill=\"#5baeea\" stroke=\"#000000\" points=\"890,-253.5 756,-253.5 756,-200.5 890,-200.5 890,-253.5\"/>\n<text text-anchor=\"middle\" x=\"823\" y=\"-238.3\" font-family=\"Times,serif\" font-size=\"14.00\" fill=\"#000000\">entropy = 0.605</text>\n<text text-anchor=\"middle\" x=\"823\" y=\"-223.3\" font-family=\"Times,serif\" font-size=\"14.00\" fill=\"#000000\">samples = 27</text>\n<text text-anchor=\"middle\" x=\"823\" y=\"-208.3\" font-family=\"Times,serif\" font-size=\"14.00\" fill=\"#000000\">value = [4, 23]</text>\n</g>\n<!-- 14&#45;&gt;20 -->\n<g id=\"edge20\" class=\"edge\">\n<title>14&#45;&gt;20</title>\n<path fill=\"none\" stroke=\"#000000\" d=\"M720.7705,-296.9465C738.4791,-284.8301 758.3532,-271.232 775.8368,-259.2696\"/>\n<polygon fill=\"#000000\" stroke=\"#000000\" points=\"777.9309,-262.0776 784.2076,-253.5422 773.9781,-256.3005 777.9309,-262.0776\"/>\n</g>\n<!-- 16 -->\n<g id=\"node17\" class=\"node\">\n<title>16</title>\n<polygon fill=\"#55abe9\" stroke=\"#000000\" points=\"662,-149.5 528,-149.5 528,-96.5 662,-96.5 662,-149.5\"/>\n<text text-anchor=\"middle\" x=\"595\" y=\"-134.3\" font-family=\"Times,serif\" font-size=\"14.00\" fill=\"#000000\">entropy = 0.544</text>\n<text text-anchor=\"middle\" x=\"595\" y=\"-119.3\" font-family=\"Times,serif\" font-size=\"14.00\" fill=\"#000000\">samples = 16</text>\n<text text-anchor=\"middle\" x=\"595\" y=\"-104.3\" font-family=\"Times,serif\" font-size=\"14.00\" fill=\"#000000\">value = [2, 14]</text>\n</g>\n<!-- 15&#45;&gt;16 -->\n<g id=\"edge16\" class=\"edge\">\n<title>15&#45;&gt;16</title>\n<path fill=\"none\" stroke=\"#000000\" d=\"M646.1148,-192.9465C637.9044,-181.7113 628.7631,-169.2021 620.507,-157.9043\"/>\n<polygon fill=\"#000000\" stroke=\"#000000\" points=\"623.1223,-155.551 614.3962,-149.5422 617.4705,-159.6812 623.1223,-155.551\"/>\n</g>\n<!-- 17 -->\n<g id=\"node18\" class=\"node\">\n<title>17</title>\n<polygon fill=\"#e6f3fc\" stroke=\"#000000\" points=\"814,-157 680,-157 680,-89 814,-89 814,-157\"/>\n<text text-anchor=\"middle\" x=\"747\" y=\"-141.8\" font-family=\"Times,serif\" font-size=\"14.00\" fill=\"#000000\">X[7] &lt;= 37.0</text>\n<text text-anchor=\"middle\" x=\"747\" y=\"-126.8\" font-family=\"Times,serif\" font-size=\"14.00\" fill=\"#000000\">entropy = 0.997</text>\n<text text-anchor=\"middle\" x=\"747\" y=\"-111.8\" font-family=\"Times,serif\" font-size=\"14.00\" fill=\"#000000\">samples = 30</text>\n<text text-anchor=\"middle\" x=\"747\" y=\"-96.8\" font-family=\"Times,serif\" font-size=\"14.00\" fill=\"#000000\">value = [14, 16]</text>\n</g>\n<!-- 15&#45;&gt;17 -->\n<g id=\"edge17\" class=\"edge\">\n<title>15&#45;&gt;17</title>\n<path fill=\"none\" stroke=\"#000000\" d=\"M695.8852,-192.9465C702.3153,-184.1475 709.3163,-174.5672 716.0159,-165.3993\"/>\n<polygon fill=\"#000000\" stroke=\"#000000\" points=\"718.9845,-167.269 722.0588,-157.13 713.3328,-163.1389 718.9845,-167.269\"/>\n</g>\n<!-- 18 -->\n<g id=\"node19\" class=\"node\">\n<title>18</title>\n<polygon fill=\"#fcefe6\" stroke=\"#000000\" points=\"738,-53 604,-53 604,0 738,0 738,-53\"/>\n<text text-anchor=\"middle\" x=\"671\" y=\"-37.8\" font-family=\"Times,serif\" font-size=\"14.00\" fill=\"#000000\">entropy = 0.997</text>\n<text text-anchor=\"middle\" x=\"671\" y=\"-22.8\" font-family=\"Times,serif\" font-size=\"14.00\" fill=\"#000000\">samples = 15</text>\n<text text-anchor=\"middle\" x=\"671\" y=\"-7.8\" font-family=\"Times,serif\" font-size=\"14.00\" fill=\"#000000\">value = [8, 7]</text>\n</g>\n<!-- 17&#45;&gt;18 -->\n<g id=\"edge18\" class=\"edge\">\n<title>17&#45;&gt;18</title>\n<path fill=\"none\" stroke=\"#000000\" d=\"M720.2052,-88.9777C713.1378,-80.0039 705.5024,-70.3089 698.4033,-61.295\"/>\n<polygon fill=\"#000000\" stroke=\"#000000\" points=\"701.003,-58.9391 692.0662,-53.2485 695.5037,-63.2701 701.003,-58.9391\"/>\n</g>\n<!-- 19 -->\n<g id=\"node20\" class=\"node\">\n<title>19</title>\n<polygon fill=\"#bddef6\" stroke=\"#000000\" points=\"890,-53 756,-53 756,0 890,0 890,-53\"/>\n<text text-anchor=\"middle\" x=\"823\" y=\"-37.8\" font-family=\"Times,serif\" font-size=\"14.00\" fill=\"#000000\">entropy = 0.971</text>\n<text text-anchor=\"middle\" x=\"823\" y=\"-22.8\" font-family=\"Times,serif\" font-size=\"14.00\" fill=\"#000000\">samples = 15</text>\n<text text-anchor=\"middle\" x=\"823\" y=\"-7.8\" font-family=\"Times,serif\" font-size=\"14.00\" fill=\"#000000\">value = [6, 9]</text>\n</g>\n<!-- 17&#45;&gt;19 -->\n<g id=\"edge19\" class=\"edge\">\n<title>17&#45;&gt;19</title>\n<path fill=\"none\" stroke=\"#000000\" d=\"M773.7948,-88.9777C780.8622,-80.0039 788.4976,-70.3089 795.5967,-61.295\"/>\n<polygon fill=\"#000000\" stroke=\"#000000\" points=\"798.4963,-63.2701 801.9338,-53.2485 792.997,-58.9391 798.4963,-63.2701\"/>\n</g>\n</g>\n</svg>\n"
     },
     "metadata": {}
    }
   ],
   "execution_count": null
  },
  {
   "cell_type": "markdown",
   "source": "#### Use the graph above to answer the questions below",
   "metadata": {
    "colab_type": "text",
    "id": "4iz4meWDVmo2",
    "cell_id": "00018-d531e6b3-0be6-4593-911a-1697ac904853",
    "deepnote_cell_type": "markdown"
   }
  },
  {
   "cell_type": "markdown",
   "source": "Question 1: What do you think X[n] represents in the nodes from the graph?\n\nThe column in X_train, or the feature that's being queried at that node.",
   "metadata": {
    "colab_type": "text",
    "id": "u1yM9h10WUEv",
    "cell_id": "00019-51773616-e8a0-44ba-9e36-d70097fa5655",
    "deepnote_cell_type": "markdown"
   }
  },
  {
   "cell_type": "markdown",
   "source": "Question 2: What is the root feature? Does it make sense as the root feature?\n\nThe root feature is the first split in the data. And the root feature does make sense because it does split the data well without too many or too little one one side. ",
   "metadata": {
    "colab_type": "text",
    "id": "rA7B0oTaWUIe",
    "cell_id": "00020-2deceefe-565a-4b18-8401-7c83ec9bda5e",
    "deepnote_cell_type": "markdown"
   }
  },
  {
   "cell_type": "markdown",
   "source": "Question 3: If you were to change the parameters to have a max_depth of 500 and min_samples_leaf of 1, what do you think the effect would be on the test accuracy? Training accuracy?\n\nThe training accuracy would be 100%, but the test accuracy would be quite low because the tree would overfit to the training data.",
   "metadata": {
    "colab_type": "text",
    "id": "1t559pS3ZHES",
    "cell_id": "00021-e29e7b88-9eaf-4236-8c1d-c18d93258c0b",
    "deepnote_cell_type": "markdown"
   }
  },
  {
   "cell_type": "markdown",
   "source": "**Test your guesses, create a model with max_depth=500 and min_samples_leaf=1, and predict values for the training and validation data**",
   "metadata": {
    "colab_type": "text",
    "id": "7dnlqId2bIcR",
    "cell_id": "00022-ed72e79c-1fb3-44cb-b533-d47d428bf747",
    "deepnote_cell_type": "markdown"
   }
  },
  {
   "cell_type": "code",
   "metadata": {
    "colab": {
     "autoexec": {
      "startup": false,
      "wait_interval": 0
     },
     "base_uri": "https://localhost:8080/",
     "height": 17
    },
    "colab_type": "code",
    "executionInfo": {
     "elapsed": 235,
     "status": "ok",
     "timestamp": 1530627843330,
     "user": {
      "displayName": "john passarelli",
      "photoUrl": "https://lh3.googleusercontent.com/a/default-user=s128",
      "userId": "102241934905781120798"
     },
     "user_tz": 240
    },
    "id": "hnUQKX9vl9Gy",
    "outputId": "ebaa5e52-a33f-4749-a3f6-6a3fde24da1f",
    "cell_id": "00023-49fb46da-e9bc-4bf3-a37f-ba7898041e16",
    "deepnote_to_be_reexecuted": false,
    "source_hash": "54f6ec24",
    "execution_start": 1625690287138,
    "execution_millis": 7,
    "deepnote_cell_type": "code"
   },
   "source": "## YOUR CODE HERE\n\nvhigh_depth_tree = DecisionTreeClassifier(criterion=\"entropy\", random_state = None, max_depth = 500, min_samples_leaf = 1)\nvhigh_depth_tree.fit(X_train, y_train)\nvhigh_depth_train_pred = vhigh_depth_tree.predict(X_train)\nvhigh_depth_val_pred = vhigh_depth_tree.predict(X_val)\nprint(\"High depth tree:\")\nprint(\"Training accuracy:\", accuracy_score(y_train, vhigh_depth_train_pred)*100, '%')\nprint(\"Validation accuracy:\", accuracy_score(y_val, vhigh_depth_val_pred)*100, '%')",
   "outputs": [
    {
     "name": "stdout",
     "text": "High depth tree:\nTraining accuracy: 100.0 %\nValidation accuracy: 79.36507936507937 %\n",
     "output_type": "stream"
    }
   ],
   "execution_count": null
  },
  {
   "cell_type": "markdown",
   "source": "# Random Forest",
   "metadata": {
    "colab_type": "text",
    "id": "40Psyt65pD8p",
    "cell_id": "00024-f6243122-11c3-4e0e-b411-2261dd2a6ce6",
    "deepnote_cell_type": "markdown"
   }
  },
  {
   "cell_type": "markdown",
   "source": "## Creating Model\n\nCreate a model with sklearn's RandomForestClassifier and predict values on your validation set.",
   "metadata": {
    "colab_type": "text",
    "id": "mjLu1MLIpGNF",
    "cell_id": "00025-9ac59e6e-64f7-43cb-9dc9-ee4523ef3599",
    "deepnote_cell_type": "markdown"
   }
  },
  {
   "cell_type": "code",
   "metadata": {
    "colab": {
     "autoexec": {
      "startup": false,
      "wait_interval": 0
     },
     "base_uri": "https://localhost:8080/",
     "height": 37
    },
    "colab_type": "code",
    "executionInfo": {
     "elapsed": 318,
     "status": "ok",
     "timestamp": 1530627847311,
     "user": {
      "displayName": "john passarelli",
      "photoUrl": "https://lh3.googleusercontent.com/a/default-user=s128",
      "userId": "102241934905781120798"
     },
     "user_tz": 240
    },
    "id": "TYwbpWxUfDIY",
    "outputId": "0008a18f-a9e3-4c04-b42e-adc8ce9aa966",
    "cell_id": "00026-de694ae1-f14e-428e-a672-14f3cfa91f97",
    "deepnote_to_be_reexecuted": false,
    "source_hash": "a9d0b274",
    "execution_start": 1625690553088,
    "execution_millis": 247,
    "deepnote_cell_type": "code"
   },
   "source": "## YOUR CODE HERE\n\nrand_forest = RandomForestClassifier(n_estimators = 100)\n\nrand_forest.fit(X_train, y_train)\n\ny_train_pred = rand_forest.predict(X_train)\ny_val_pred = rand_forest.predict(X_val)",
   "outputs": [],
   "execution_count": null
  },
  {
   "cell_type": "markdown",
   "source": "Print accuracy of training and validation data.",
   "metadata": {
    "colab_type": "text",
    "id": "6Ys_J3O4pd0u",
    "cell_id": "00027-37ee0acc-7ffe-4b8a-b287-d02e0827e18e",
    "deepnote_cell_type": "markdown"
   }
  },
  {
   "cell_type": "code",
   "metadata": {
    "colab": {
     "autoexec": {
      "startup": false,
      "wait_interval": 0
     },
     "base_uri": "https://localhost:8080/",
     "height": 17
    },
    "colab_type": "code",
    "executionInfo": {
     "elapsed": 337,
     "status": "ok",
     "timestamp": 1530627851278,
     "user": {
      "displayName": "john passarelli",
      "photoUrl": "https://lh3.googleusercontent.com/a/default-user=s128",
      "userId": "102241934905781120798"
     },
     "user_tz": 240
    },
    "id": "aQdfjEWdfDOH",
    "outputId": "751008b5-156c-4bea-d599-37f84bd1b60c",
    "cell_id": "00028-6dc8051a-5dab-40fd-8577-1a964ad85ec1",
    "deepnote_to_be_reexecuted": false,
    "source_hash": "da800821",
    "execution_start": 1625690556238,
    "execution_millis": 0,
    "deepnote_cell_type": "code"
   },
   "source": "## YOUR CODE HERE\nprint(\"Random Forest:\")\nprint(\"Training accuracy:\", accuracy_score(y_train, y_train_pred)*100, '%')\nprint(\"Validation accuracy:\", accuracy_score(y_val, y_val_pred)*100, '%')",
   "outputs": [
    {
     "name": "stdout",
     "text": "Random Forest:\nTraining accuracy: 100.0 %\nValidation accuracy: 80.95238095238095 %\n",
     "output_type": "stream"
    }
   ],
   "execution_count": null
  },
  {
   "cell_type": "markdown",
   "source": "How did the accuracy compare to the decision tree's accuracy?\n\nThe training accuracy is much higher, while the validation accuracy is the same as our low-depth decision tree. However, the validation accuracy does fluctuate due to randomization.",
   "metadata": {
    "cell_id": "00029-e39ef078-6e30-45dd-926b-bbb507b140eb",
    "deepnote_cell_type": "markdown"
   }
  },
  {
   "cell_type": "markdown",
   "source": "Print the 3 most important features (hint: sklearn has an attribute to help you find these)",
   "metadata": {
    "colab_type": "text",
    "id": "jGlSHxuUqAnX",
    "cell_id": "00030-5e94d202-3299-4773-8fe0-f4448bcb9862",
    "deepnote_cell_type": "markdown"
   }
  },
  {
   "cell_type": "code",
   "metadata": {
    "colab": {
     "autoexec": {
      "startup": false,
      "wait_interval": 0
     },
     "base_uri": "https://localhost:8080/",
     "height": 17
    },
    "colab_type": "code",
    "executionInfo": {
     "elapsed": 448,
     "status": "ok",
     "timestamp": 1530627855691,
     "user": {
      "displayName": "john passarelli",
      "photoUrl": "https://lh3.googleusercontent.com/a/default-user=s128",
      "userId": "102241934905781120798"
     },
     "user_tz": 240
    },
    "id": "5rVekWn0qw3r",
    "outputId": "d5e516d3-4f91-4394-b2e5-f26427b404ef",
    "cell_id": "00031-8c53bed0-f3ad-4d2c-9d15-a2d331c52695",
    "deepnote_to_be_reexecuted": false,
    "source_hash": "b64a425a",
    "execution_start": 1625691675012,
    "execution_millis": 10,
    "deepnote_cell_type": "code"
   },
   "source": "names = ['preg', 'plas', 'pres', 'skin', 'test', 'mass', 'pedi', 'age', 'class']\n\n## YOUR CODE HERE\nimportances = rand_forest.feature_importances_.argsort()\nimportant = importances[-1:-4:-1]\nfor i in important:\n    print(names[i])\n\n\n#print(importances[-3:])\n\n\n\n#importances[-1] ----> index of the most important feature in array \"names\"",
   "outputs": [
    {
     "name": "stdout",
     "text": "plas\ntest\nage\n",
     "output_type": "stream"
    }
   ],
   "execution_count": null
  },
  {
   "cell_type": "markdown",
   "source": "Find the accuracy for random forests with 1 to 100 trees, counting by 5. Print and then plot these accuracies.",
   "metadata": {
    "colab_type": "text",
    "id": "lynu8pLDtd0S",
    "cell_id": "00032-b66c2556-892c-4fe8-8399-f5699345b768",
    "deepnote_cell_type": "markdown"
   }
  },
  {
   "cell_type": "code",
   "metadata": {
    "colab": {
     "autoexec": {
      "startup": false,
      "wait_interval": 0
     },
     "base_uri": "https://localhost:8080/",
     "height": 17
    },
    "colab_type": "code",
    "executionInfo": {
     "elapsed": 371,
     "status": "ok",
     "timestamp": 1530627860158,
     "user": {
      "displayName": "john passarelli",
      "photoUrl": "https://lh3.googleusercontent.com/a/default-user=s128",
      "userId": "102241934905781120798"
     },
     "user_tz": 240
    },
    "id": "e2hG7npcuM7f",
    "outputId": "fb9e32ed-fb17-462e-a2f2-8db7964bb3d7",
    "cell_id": "00033-cc17e767-e961-47c5-b451-f98211db658d",
    "deepnote_to_be_reexecuted": false,
    "source_hash": "64337eb8",
    "execution_start": 1625691927250,
    "execution_millis": 2814,
    "deepnote_cell_type": "code"
   },
   "source": "## YOUR CODE HERE\ntest_preds = []\nfor i in range(1,100,5):\n    rand_forest = RandomForestClassifier(n_estimators = i)\n    rand_forest.fit(X_train, y_train)\n\n    y_test_pred = rand_forest.predict(X_test)\n    cur_acc = accuracy_score(y_test, y_test_pred)*100\n    test_preds.append(cur_acc)\n\nplt.plot(range(1, 100, 5), test_preds)",
   "outputs": [
    {
     "output_type": "execute_result",
     "execution_count": 73,
     "data": {
      "text/plain": "[<matplotlib.lines.Line2D at 0x7f93add9d250>]"
     },
     "metadata": {}
    },
    {
     "data": {
      "text/plain": "<Figure size 432x288 with 1 Axes>",
      "image/png": "[encoded data removed]"
     },
     "metadata": {
      "needs_background": "light",
      "image/png": {
       "width": 375,
       "height": 251
      }
     },
     "output_type": "display_data"
    }
   ],
   "execution_count": null
  },
  {
   "cell_type": "markdown",
   "source": "Plot the roc_curve using predict_proba a function for our random forest model, and metrics.roc_curve\n\nIt might help to google these functions and look at sklearn's documentation.",
   "metadata": {
    "cell_id": "00034-e51aa614-cd4a-40a3-9dcd-64e7966fbf1c",
    "deepnote_cell_type": "markdown"
   }
  },
  {
   "cell_type": "code",
   "metadata": {
    "cell_id": "00035-104f4dee-fe87-4866-ad6c-d7b4b3d97e90",
    "deepnote_to_be_reexecuted": false,
    "source_hash": "da586374",
    "execution_start": 1625691998376,
    "execution_millis": 231,
    "deepnote_cell_type": "code"
   },
   "source": "## YOUR CODE HERE\ntest_prob = rand_forest.predict_proba(X_test)\nfpr, tpr, thresholds = metrics.roc_curve(y_test, test_prob[:, 1])\n\nroc_auc = metrics.auc(fpr, tpr)\n\n# Plot the ROC curve\nplt.figure(figsize=(6,6))\nlw = 2\nplt.plot(fpr, tpr, color='darkorange',\n         lw=lw, label='ROC curve (area = %0.2f)' % roc_auc)\nplt.plot([0, 1], [0, 1], color='navy', lw=lw, linestyle='--')\nplt.xlim([0.0, 1.0])\nplt.ylim([0.0, 1.0])\nplt.xlabel('False Positive Rate')\nplt.ylabel('True Positive Rate')\nplt.title('Receiver operating characteristic')\nplt.legend(loc=\"lower right\")\nplt.show()",
   "outputs": [
    {
     "data": {
      "text/plain": "<Figure size 432x432 with 1 Axes>",
      "image/png": "[encoded data removed]"
     },
     "metadata": {
      "needs_background": "light",
      "image/png": {
       "width": 394,
       "height": 387
      }
     },
     "output_type": "display_data"
    }
   ],
   "execution_count": null
  },
  {
   "cell_type": "markdown",
   "source": "<a style='text-decoration:none;line-height:16px;display:flex;color:#5B5B62;padding:10px;justify-content:end;' href='https://deepnote.com?utm_source=created-in-deepnote-cell&projectId=6eb312d5-62b7-42e3-a19a-ad8b15b7fa98' target=\"_blank\">\n<img alt='Created in deepnote.com' style='display:inline;max-height:16px;margin:0px;margin-right:7.5px;' src='data:image/svg+xml;base64,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' > </img>\nCreated in <span style='font-weight:600;margin-left:4px;'>Deepnote</span></a>",
   "metadata": {
    "tags": [],
    "created_in_deepnote_cell": true,
    "deepnote_cell_type": "markdown"
   }
  }
 ],
 "nbformat": 4,
 "nbformat_minor": 1,
 "metadata": {
  "colab": {
   "collapsed_sections": [],
   "default_view": {},
   "name": "DecisionTreeWorksheetStudent",
   "provenance": [
    {
     "file_id": "165CSmT99w4_Sv1UENIyvIkH7ZEw2Xeh8",
     "timestamp": 1527780043079
    }
   ],
   "version": "0.3.2",
   "views": {}
  },
  "kernelspec": {
   "display_name": "Python 3",
   "language": "python",
   "name": "python3"
  },
  "language_info": {
   "codemirror_mode": {
    "name": "ipython",
    "version": 3
   },
   "file_extension": ".py",
   "mimetype": "text/x-python",
   "name": "python",
   "nbconvert_exporter": "python",
   "pygments_lexer": "ipython3",
   "version": "3.7.3"
  },
  "deepnote_notebook_id": "5160454b-8d9a-4d65-91ef-99b6d4c100e8",
  "deepnote": {},
  "deepnote_execution_queue": []
 }
}