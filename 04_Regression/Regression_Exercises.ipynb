{
 "cells": [
  {
   "cell_type": "markdown",
   "source": "# Regression Exercises",
   "metadata": {
    "colab_type": "text",
    "id": "xTfQvqbXr9G1",
    "cell_id": "00000-54f2d147-8aad-4e33-afcc-9314a0acbc15",
    "deepnote_cell_type": "markdown"
   }
  },
  {
   "cell_type": "markdown",
   "source": "## Linear",
   "metadata": {
    "id": "RAgvxOf_qm9m",
    "colab_type": "text",
    "cell_id": "00001-64ae805a-b4c1-4584-b041-1cd9a74df1c5",
    "deepnote_cell_type": "markdown"
   }
  },
  {
   "cell_type": "code",
   "metadata": {
    "colab_type": "code",
    "id": "VohVqdqmr9G3",
    "colab": {},
    "cell_id": "00002-a7a0de70-619c-4ac5-ab40-d3374b62f6be",
    "deepnote_to_be_reexecuted": false,
    "source_hash": "1e051188",
    "execution_start": 1625703297090,
    "execution_millis": 1,
    "deepnote_cell_type": "code"
   },
   "source": "# Loading data\nimport pandas as pd\nimport numpy as np\nfrom matplotlib import pyplot as plt\n\n# Read data from Github\ndata_url = \"https://raw.githubusercontent.com/BeaverWorksMedlytics2020/Data_Public/master/NotebookExampleData/Week1/ex1data2.txt\"\ndata_array = np.genfromtxt(data_url, delimiter=',')\n\n# The columns in this data set are define as folows:\n\"\"\"\n    0 = floor area\n    1 = number of bedrooms\n    2 = sale price\n\"\"\"\n    \n# Store the relevant columns in more descriptive variables\nx_sqft = data_array[:,0]\ny_value = data_array[:,2]",
   "outputs": [],
   "execution_count": null
  },
  {
   "cell_type": "code",
   "source": "import sklearn.linear_model as lm\nprint(x_sqft)\nprint(y_value)\nx_sqft_shaped = x_sqft.reshape(-1,1)\nmodel = lm.LinearRegression()\nx_sqft_shaped = x_sqft.reshape(-1,1)\nhousepredictor = model.fit(x_sqft_shaped,y_value)\nprint(housepredictor)",
   "metadata": {
    "tags": [],
    "cell_id": "00003-be55d438-f114-4579-aff3-e84ba35e6b96",
    "deepnote_to_be_reexecuted": false,
    "source_hash": "640c0e29",
    "execution_start": 1625703696973,
    "execution_millis": 10,
    "deepnote_cell_type": "code"
   },
   "outputs": [
    {
     "name": "stdout",
     "text": "[2104. 1600. 2400. 1416. 3000. 1985. 1534. 1427. 1380. 1494. 1940. 2000.\n 1890. 4478. 1268. 2300. 1320. 1236. 2609. 3031. 1767. 1888. 1604. 1962.\n 3890. 1100. 1458. 2526. 2200. 2637. 1839. 1000. 2040. 3137. 1811. 1437.\n 1239. 2132. 4215. 2162. 1664. 2238. 2567. 1200.  852. 1852. 1203.]\n[399900. 329900. 369000. 232000. 539900. 299900. 314900. 198999. 212000.\n 242500. 239999. 347000. 329999. 699900. 259900. 449900. 299900. 199900.\n 499998. 599000. 252900. 255000. 242900. 259900. 573900. 249900. 464500.\n 469000. 475000. 299900. 349900. 169900. 314900. 579900. 285900. 249900.\n 229900. 345000. 549000. 287000. 368500. 329900. 314000. 299000. 179900.\n 299900. 239500.]\nLinearRegression()\n",
     "output_type": "stream"
    }
   ],
   "execution_count": null
  },
  {
   "cell_type": "code",
   "source": "mean = x_sqft.mean()\nprint(x_sqft.sum())",
   "metadata": {
    "tags": [],
    "cell_id": "00004-95cf6bcb-b7b0-4319-928f-5dfc20f91537",
    "deepnote_to_be_reexecuted": false,
    "source_hash": "c08797db",
    "execution_start": 1625704918932,
    "execution_millis": 7,
    "deepnote_cell_type": "code"
   },
   "outputs": [
    {
     "name": "stdout",
     "text": "94032.0\n",
     "output_type": "stream"
    }
   ],
   "execution_count": null
  },
  {
   "cell_type": "markdown",
   "source": "Here we'll build off of the tutorial exercise, first finding the best linear fit for floor area (sqft) vs valued price (USD). Recall that setting the derivative = 0 and solving for 𝑏 & 𝑚 produces formula for the best fit trend:\n$$ m = \\frac{\\sum^n_{i=1} (x_i-x_{mean})(y_i-y_{mean})}{\\sum^n_{i=1} (x_i-x_{mean})^2} $$\n$$ b = y_{mean}-m*x_{mean} $$",
   "metadata": {
    "colab_type": "text",
    "id": "bubHPtJ5r9G-",
    "cell_id": "00003-b01bcf9e-ff62-4e42-afcb-ef176f000e15",
    "deepnote_cell_type": "markdown"
   }
  },
  {
   "cell_type": "code",
   "metadata": {
    "colab_type": "code",
    "id": "HaPeEPN8r9HA",
    "colab": {},
    "cell_id": "00004-4545490b-af34-4688-80d9-4600f5ac9202",
    "deepnote_to_be_reexecuted": false,
    "source_hash": "47ee5a55",
    "execution_start": 1625705056345,
    "execution_millis": 0,
    "deepnote_cell_type": "code"
   },
   "source": "def find_best_fit(xx,yy):\n    '''\n      This function finds the best linear fit for yy vs xx\n    '''\n  \n    # YOUR CODE HERE\n\n    m_numer = (xx - xx.mean()) * (yy - yy.mean())\n    m_numer_sum = m_numer.sum()\n    m_denom = (xx - xx.mean()) ** 2 \n    m_denom_sum = m_denom.sum()\n    m_value = m_numer_sum/m_denom_sum\n\n    b_value = yy.mean() - (m_value * xx.mean())\n\n    return (m_value, b_value)\n",
   "outputs": [],
   "execution_count": null
  },
  {
   "cell_type": "code",
   "metadata": {
    "colab_type": "code",
    "id": "mfZ7t4F9r9HH",
    "colab": {},
    "cell_id": "00005-f6683d67-0f6a-4987-8563-6c2be2b4d96a",
    "deepnote_to_be_reexecuted": false,
    "source_hash": "9b2b15d2",
    "execution_start": 1625705056861,
    "execution_millis": 7,
    "deepnote_cell_type": "code"
   },
   "source": "# Use your function to show the best fit values for our data\n(mm, bb) = find_best_fit(x_sqft, y_value)\nfit_str = 'y = {aa:.1f}x + {bb:.1f}'\nprint(fit_str.format(aa=mm,bb=bb))",
   "outputs": [
    {
     "name": "stdout",
     "text": "y = 134.5x + 71270.5\n",
     "output_type": "stream"
    }
   ],
   "execution_count": null
  },
  {
   "cell_type": "markdown",
   "source": "Now we have the best fit trend line that minimizes total error for our data, let's try plotting it and see what it looks like. Since its just an equation, we need to *sample* the curve in order to plot it. To do this, we'll find the difference between the largest and smallest floor area, and divide it into 100 sample points.",
   "metadata": {
    "colab_type": "text",
    "id": "jVYEfrpsr9HN",
    "cell_id": "00006-91d4b146-df2e-4bcf-af63-332049afb633",
    "deepnote_cell_type": "markdown"
   }
  },
  {
   "cell_type": "code",
   "metadata": {
    "colab_type": "code",
    "id": "dZARuzL7r9HO",
    "colab": {},
    "cell_id": "00007-e6b00473-e96d-4443-9d36-3d61e1bf97da",
    "deepnote_cell_type": "code"
   },
   "source": "# Plot the data\n\n# Sample the range from minimum to maximum sqft to get 100 points\n\n# Apply the best fit equation to each sample point and plot the result",
   "execution_count": null,
   "outputs": []
  },
  {
   "cell_type": "markdown",
   "source": "1: Given these parameters, how much should a house with 1600 sqft cost?\n\n286,470.5",
   "metadata": {
    "colab_type": "text",
    "id": "ywlWE2xtr9HU",
    "cell_id": "00008-c6508de2-a1ab-4853-8ed9-9cd10434795f",
    "deepnote_cell_type": "markdown"
   }
  },
  {
   "cell_type": "markdown",
   "source": "2: From the dataset, how much did a house with 1600 sqft actually cost?\n\n329,900",
   "metadata": {
    "colab_type": "text",
    "id": "J4rZ9L_Rr9HV",
    "cell_id": "00009-d04cbdf5-56be-4f7f-bdea-b78b67fa42d9",
    "deepnote_cell_type": "markdown"
   }
  },
  {
   "cell_type": "markdown",
   "source": "3: Assuming the current 1600 sqft house would sell for as much as the historical one, how much money would we have lost? What percentage of the total price is this?\n\nLoss = 43,429.5\nPercentage = 13.16%",
   "metadata": {
    "colab_type": "text",
    "id": "KTZMjw7rr9HW",
    "cell_id": "00010-bed6d3ea-4578-4812-9014-ad5d07e42f6d",
    "deepnote_cell_type": "markdown"
   }
  },
  {
   "cell_type": "markdown",
   "source": "Now compare the values for 𝑚 and 𝑏 that sklearn generated in the tutorial notebook with the values that you found just now with your function. Hopefully they match.",
   "metadata": {
    "colab_type": "text",
    "id": "UN9zGe6Mr9HY",
    "cell_id": "00011-970ae067-7dde-4eff-97fb-c053e85eddb1",
    "deepnote_cell_type": "markdown"
   }
  },
  {
   "cell_type": "code",
   "metadata": {
    "colab_type": "code",
    "id": "CDw75BJrr9HZ",
    "colab": {},
    "cell_id": "00012-04c22e66-be2c-4952-a49d-a0589e58a023",
    "deepnote_to_be_reexecuted": false,
    "source_hash": "87c966f2",
    "execution_start": 1625705506462,
    "execution_millis": 5,
    "deepnote_cell_type": "code"
   },
   "source": "print(\"Sklearn:\",134.52528772, 71270.492448729)\nprint(\"My function:\",mm,bb)",
   "outputs": [
    {
     "name": "stdout",
     "text": "Sklearn: 134.52528772 71270.492448729\nMy function: 134.52528772024135 71270.49244872906\n",
     "output_type": "stream"
    }
   ],
   "execution_count": null
  },
  {
   "cell_type": "markdown",
   "source": "---\nRemember how despite adding an entire new variable, the $R^2$ value barely increased? Let's investigate this further by finding the correlation ($R^2$) value for a regression of square footage vs. number of bedrooms.",
   "metadata": {
    "colab_type": "text",
    "id": "L5R8SjF9r9Hf",
    "cell_id": "00013-f8640495-e786-4732-bdc4-edff3eba311b",
    "deepnote_cell_type": "markdown"
   }
  },
  {
   "cell_type": "code",
   "metadata": {
    "colab_type": "code",
    "id": "gMPm_HXgr9Hg",
    "colab": {},
    "cell_id": "00014-61ac4d80-9163-47ee-b2da-1d657cc52077",
    "deepnote_to_be_reexecuted": false,
    "source_hash": "1de6d344",
    "execution_start": 1625706105348,
    "execution_millis": 14,
    "deepnote_cell_type": "code"
   },
   "source": "import sklearn.linear_model as lm\n\n# YOUR CODE HERE\n\nx_sqft = data_array[:,0]\nx_sqft_shaped = x_sqft.reshape(-1,1)\ny_bedrooms = data_array[:,1]\nmodel = lm.LinearRegression()\n\nregression = model.fit(x_sqft_shaped, y_bedrooms)\n\nprint(regression.score(x_sqft_shaped, y_bedrooms))\n\n",
   "outputs": [
    {
     "name": "stdout",
     "text": "0.3135632699338188\n",
     "output_type": "stream"
    }
   ],
   "execution_count": null
  },
  {
   "cell_type": "markdown",
   "source": "Do 2 variables have to be very correlated to reduce their effectiveness together?\n\nYes",
   "metadata": {
    "colab_type": "text",
    "id": "7QT8aPEQr9Hl",
    "cell_id": "00015-d3208db8-283e-47d8-bcd0-630d7958f77a",
    "deepnote_cell_type": "markdown"
   }
  },
  {
   "cell_type": "markdown",
   "source": "## Logistic",
   "metadata": {
    "colab_type": "text",
    "id": "HY_jT1uksAYu",
    "cell_id": "00016-4c0822c9-cb18-4193-a10d-acd737bfdfb2",
    "deepnote_cell_type": "markdown"
   }
  },
  {
   "cell_type": "markdown",
   "source": "We are going to predict wheter or not someone has breast cancer using Logistic Regression on sklearn's breast cancer dataset. It is up to you to decide what features to get the best results.",
   "metadata": {
    "id": "bTR7FOhdqm_e",
    "colab_type": "text",
    "cell_id": "00017-1b373f19-5135-41be-86eb-dd00581e3c78",
    "deepnote_cell_type": "markdown"
   }
  },
  {
   "cell_type": "code",
   "metadata": {
    "colab_type": "code",
    "id": "Pg6kfm6VAdhN",
    "colab": {},
    "cell_id": "00018-d703d1de-62e7-4318-926b-f033ceb37124",
    "deepnote_to_be_reexecuted": false,
    "source_hash": "4b9ee536",
    "execution_start": 1625709668158,
    "execution_millis": 62,
    "deepnote_cell_type": "code"
   },
   "source": "from sklearn.datasets import load_breast_cancer\nfrom sklearn.model_selection import train_test_split\nfrom sklearn.linear_model import LogisticRegression\n\ndata = load_breast_cancer()\n\nX_cols = data.data[:, 2]\nY_cols = data.target\n\n# YOUR CODE HERE\n\n#print(data.feature_names)\n#print(X_cols)\n#print(Y_cols)\n\ntest_size = 0.15\nX_train, X_val, y_train, y_val = train_test_split(X_cols, Y_cols, test_size=test_size, random_state=1)\n\nlogistic_regression = LogisticRegression()\n\nX_train_shaped = X_train.reshape(-1,1)\n\nlogistic_regression.fit(X_train_shaped, y_train)\n",
   "outputs": [
    {
     "output_type": "execute_result",
     "execution_count": 83,
     "data": {
      "text/plain": "LogisticRegression()"
     },
     "metadata": {}
    }
   ],
   "execution_count": null
  },
  {
   "cell_type": "markdown",
   "source": "Test your logistical regression! You must get an accuracy of > 80%",
   "metadata": {
    "colab_type": "text",
    "id": "kUZXPX46CUS9",
    "cell_id": "00019-92a01ac8-2487-4e1c-a861-d54f06cd0b4e",
    "deepnote_cell_type": "markdown"
   }
  },
  {
   "cell_type": "code",
   "metadata": {
    "colab_type": "code",
    "id": "AnPoDu-CCTsE",
    "colab": {},
    "cell_id": "00020-1005de50-c723-4dd2-8836-3d3030120fb5",
    "deepnote_to_be_reexecuted": false,
    "source_hash": "5ee2067d",
    "execution_start": 1625709812594,
    "execution_millis": 11,
    "deepnote_cell_type": "code"
   },
   "source": "from sklearn.metrics import accuracy_score\n\n# YOUR CODE HERE\n\nX_val_shaped = X_val.reshape(-1,1)\ny_val_pred = logistic_regression.predict(X_val_shaped)\nprint(\"Validation Accuracy is \", accuracy_score(y_val,y_val_pred)*100)",
   "outputs": [
    {
     "name": "stdout",
     "text": "Validation Accuracy is  87.20930232558139\n",
     "output_type": "stream"
    }
   ],
   "execution_count": null
  },
  {
   "cell_type": "code",
   "source": "",
   "metadata": {
    "tags": [],
    "cell_id": "00023-68e19b14-4220-4300-804c-73af98fc926d",
    "deepnote_cell_type": "code"
   },
   "outputs": [],
   "execution_count": null
  },
  {
   "cell_type": "markdown",
   "source": "<a style='text-decoration:none;line-height:16px;display:flex;color:#5B5B62;padding:10px;justify-content:end;' href='https://deepnote.com?utm_source=created-in-deepnote-cell&projectId=6eb312d5-62b7-42e3-a19a-ad8b15b7fa98' target=\"_blank\">\n<img alt='Created in deepnote.com' style='display:inline;max-height:16px;margin:0px;margin-right:7.5px;' src='data:image/svg+xml;base64,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' > </img>\nCreated in <span style='font-weight:600;margin-left:4px;'>Deepnote</span></a>",
   "metadata": {
    "tags": [],
    "created_in_deepnote_cell": true,
    "deepnote_cell_type": "markdown"
   }
  }
 ],
 "nbformat": 4,
 "nbformat_minor": 0,
 "metadata": {
  "colab": {
   "name": "Regression_Exercises",
   "provenance": []
  },
  "kernelspec": {
   "display_name": "Python 3",
   "language": "python",
   "name": "python3"
  },
  "language_info": {
   "codemirror_mode": {
    "name": "ipython",
    "version": 3
   },
   "file_extension": ".py",
   "mimetype": "text/x-python",
   "name": "python",
   "nbconvert_exporter": "python",
   "pygments_lexer": "ipython3",
   "version": "3.7.3"
  },
  "deepnote_notebook_id": "cd1723ef-a6c7-4925-9bec-d14711299f9c",
  "deepnote": {},
  "deepnote_execution_queue": []
 }
}